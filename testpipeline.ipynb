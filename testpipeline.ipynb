{
 "cells": [
  {
   "cell_type": "code",
   "execution_count": 20,
   "id": "4f85a59a-23e4-49cc-9fe0-964f414cb450",
   "metadata": {
    "ExecuteTime": {
     "end_time": "2024-03-22T16:19:11.498131Z",
     "start_time": "2024-03-22T16:19:11.253179Z"
    }
   },
   "outputs": [],
   "source": [
    "import pandas as pd\n",
    "import numpy as np\n",
    "import matplotlib.pyplot as plt\n",
    "import seaborn as sns\n",
    "from sklearn.model_selection import train_test_split\n",
    "from sklearn.preprocessing  import OneHotEncoder,StandardScaler\n",
    "from sklearn.linear_model import LinearRegression,Ridge,Lasso\n",
    "from joblib import dump, load\n",
    "from sklearn.metrics import r2_score\n",
    "import os"
   ]
  },
  {
   "cell_type": "code",
   "execution_count": 25,
   "id": "fa1c9877-1d76-40d3-b6e7-90f7a1a2503e",
   "metadata": {
    "ExecuteTime": {
     "end_time": "2024-03-22T16:19:11.962462Z",
     "start_time": "2024-03-22T16:19:11.720509Z"
    }
   },
   "outputs": [],
   "source": [
    "def test_pipeline(X_test_path,model):\n",
    " \n",
    "\n",
    "    #Read data\n",
    "    X=pd.read_csv(X_test_path)   \n",
    "    #y_true=pd.read_csv(y_test_path)\n",
    "    \n",
    "    #seperate numerical and categorical columns\n",
    "    numerical_cols=X.select_dtypes(exclude='object')\n",
    "    categorical_cols=X.select_dtypes(include='object')\n",
    "    \n",
    "      # categorical -- encoding\n",
    "    encoder_model=load(r'C:\\Users\\kirth\\python\\data 1\\models\\encoder/one_hot_encoder.pkl')\n",
    "    col=encoder_model.get_feature_names_out()\n",
    "    transform=encoder_model.transform(categorical_cols).toarray()\n",
    "    categorical_encode_data=pd.DataFrame(transform,columns=col)\n",
    "\n",
    "    # numerical-- Scalling\n",
    "    model_scaling=load(r'C:\\Users\\kirth\\python\\data 1\\models\\scaling\\standard_scaler.pkl')\n",
    "    scaled_data=model_scaling.transform(numerical_cols)\n",
    "    numerical_scaled_data=pd.DataFrame(scaled_data,columns=numerical_cols.columns)\n",
    "\n",
    "    # concat numerical and categorical data\n",
    "    Features=pd.concat([numerical_scaled_data,categorical_encode_data],axis=1)\n",
    "\n",
    "    # model testing\n",
    "    lr=load(model)\n",
    "    y_pred=pd.DataFrame(lr.predict(Features))\n",
    "    #test_score=r2_score(y_true, y_pred)*100\n",
    "    \n",
    "    return y_pred\n",
    "    "
   ]
  },
  {
   "cell_type": "code",
   "execution_count": 26,
   "id": "96d61a3e-a3e3-4631-aeb4-45eddc425517",
   "metadata": {
    "ExecuteTime": {
     "end_time": "2024-03-22T16:19:13.750703Z",
     "start_time": "2024-03-22T16:19:12.025679Z"
    }
   },
   "outputs": [
    {
     "data": {
      "text/html": [
       "<div>\n",
       "<style scoped>\n",
       "    .dataframe tbody tr th:only-of-type {\n",
       "        vertical-align: middle;\n",
       "    }\n",
       "\n",
       "    .dataframe tbody tr th {\n",
       "        vertical-align: top;\n",
       "    }\n",
       "\n",
       "    .dataframe thead th {\n",
       "        text-align: right;\n",
       "    }\n",
       "</style>\n",
       "<table border=\"1\" class=\"dataframe\">\n",
       "  <thead>\n",
       "    <tr style=\"text-align: right;\">\n",
       "      <th></th>\n",
       "      <th>0</th>\n",
       "    </tr>\n",
       "  </thead>\n",
       "  <tbody>\n",
       "    <tr>\n",
       "      <th>0</th>\n",
       "      <td>61.200001</td>\n",
       "    </tr>\n",
       "    <tr>\n",
       "      <th>1</th>\n",
       "      <td>54.049999</td>\n",
       "    </tr>\n",
       "    <tr>\n",
       "      <th>2</th>\n",
       "      <td>82.199997</td>\n",
       "    </tr>\n",
       "    <tr>\n",
       "      <th>3</th>\n",
       "      <td>122.199997</td>\n",
       "    </tr>\n",
       "    <tr>\n",
       "      <th>4</th>\n",
       "      <td>60.150002</td>\n",
       "    </tr>\n",
       "    <tr>\n",
       "      <th>...</th>\n",
       "      <td>...</td>\n",
       "    </tr>\n",
       "    <tr>\n",
       "      <th>122</th>\n",
       "      <td>140.649994</td>\n",
       "    </tr>\n",
       "    <tr>\n",
       "      <th>123</th>\n",
       "      <td>50.750000</td>\n",
       "    </tr>\n",
       "    <tr>\n",
       "      <th>124</th>\n",
       "      <td>122.199997</td>\n",
       "    </tr>\n",
       "    <tr>\n",
       "      <th>125</th>\n",
       "      <td>118.550003</td>\n",
       "    </tr>\n",
       "    <tr>\n",
       "      <th>126</th>\n",
       "      <td>97.199997</td>\n",
       "    </tr>\n",
       "  </tbody>\n",
       "</table>\n",
       "<p>127 rows × 1 columns</p>\n",
       "</div>"
      ],
      "text/plain": [
       "              0\n",
       "0     61.200001\n",
       "1     54.049999\n",
       "2     82.199997\n",
       "3    122.199997\n",
       "4     60.150002\n",
       "..          ...\n",
       "122  140.649994\n",
       "123   50.750000\n",
       "124  122.199997\n",
       "125  118.550003\n",
       "126   97.199997\n",
       "\n",
       "[127 rows x 1 columns]"
      ]
     },
     "execution_count": 26,
     "metadata": {},
     "output_type": "execute_result"
    }
   ],
   "source": [
    "y_pred=test_pipeline(r\"C:\\Users\\kirth\\python\\data 1\\X_test.csv\",r\"C:\\Users\\kirth\\python\\data 1\\models\\DT.pkl\")\n",
    "y_pred"
   ]
  },
  {
   "cell_type": "code",
   "execution_count": null,
   "id": "a6f5126aa11d3d09",
   "metadata": {
    "collapsed": false,
    "jupyter": {
     "outputs_hidden": false
    }
   },
   "outputs": [],
   "source": []
  },
  {
   "cell_type": "code",
   "execution_count": null,
   "id": "c293dcf6-2632-4cab-b8b1-122630b23c9b",
   "metadata": {
    "ExecuteTime": {
     "end_time": "2024-03-21T12:15:09.559559Z",
     "start_time": "2024-03-21T12:15:09.559559Z"
    }
   },
   "outputs": [],
   "source": [
    "\n",
    "\n"
   ]
  },
  {
   "cell_type": "code",
   "execution_count": null,
   "id": "8328bacb-e3cd-4257-afcd-6dd50256cd90",
   "metadata": {},
   "outputs": [],
   "source": []
  }
 ],
 "metadata": {
  "kernelspec": {
   "display_name": "Python 3 (ipykernel)",
   "language": "python",
   "name": "python3"
  },
  "language_info": {
   "codemirror_mode": {
    "name": "ipython",
    "version": 3
   },
   "file_extension": ".py",
   "mimetype": "text/x-python",
   "name": "python",
   "nbconvert_exporter": "python",
   "pygments_lexer": "ipython3",
   "version": "3.11.8"
  }
 },
 "nbformat": 4,
 "nbformat_minor": 5
}
